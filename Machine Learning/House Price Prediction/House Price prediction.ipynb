{
 "cells": [
  {
   "cell_type": "code",
   "execution_count": 65,
   "metadata": {},
   "outputs": [],
   "source": [
    "import pandas as pd\n",
    "from sklearn.linear_model import LinearRegression\n",
    "from sklearn.model_selection import train_test_split\n",
    "from sklearn.preprocessing import LabelEncoder\n"
   ]
  },
  {
   "cell_type": "code",
   "execution_count": 66,
   "metadata": {},
   "outputs": [],
   "source": [
    "file_path = r\"C:\\Users\\susha\\OneDrive\\Desktop\\Programing Folder\\Other's Code\\Simran's Code\\Bharat Intern\\Machine Learning\\House Price Prediction\\House Details.csv\"\n",
    "DataFrame = pd.read_csv(file_path)\n"
   ]
  },
  {
   "cell_type": "code",
   "execution_count": 67,
   "metadata": {},
   "outputs": [
    {
     "ename": "ValueError",
     "evalue": "The truth value of a Series is ambiguous. Use a.empty, a.bool(), a.item(), a.any() or a.all().",
     "output_type": "error",
     "traceback": [
      "\u001b[1;31m---------------------------------------------------------------------------\u001b[0m",
      "\u001b[1;31mValueError\u001b[0m                                Traceback (most recent call last)",
      "\u001b[1;32mc:\\Users\\susha\\OneDrive\\Desktop\\Programing Folder\\Other's Code\\Simran's Code\\Bharat Intern\\Machine Learning\\House Price Prediction\\House Price prediction.ipynb Cell 3\u001b[0m line \u001b[0;36m3\n\u001b[0;32m      <a href='vscode-notebook-cell:/c%3A/Users/susha/OneDrive/Desktop/Programing%20Folder/Other%27s%20Code/Simran%27s%20Code/Bharat%20Intern/Machine%20Learning/House%20Price%20Prediction/House%20Price%20prediction.ipynb#W2sZmlsZQ%3D%3D?line=0'>1</a>\u001b[0m X \u001b[39m=\u001b[39m DataFrame\u001b[39m.\u001b[39mdrop(columns\u001b[39m=\u001b[39m[\u001b[39m\"\u001b[39m\u001b[39mprice\u001b[39m\u001b[39m\"\u001b[39m])\n\u001b[0;32m      <a href='vscode-notebook-cell:/c%3A/Users/susha/OneDrive/Desktop/Programing%20Folder/Other%27s%20Code/Simran%27s%20Code/Bharat%20Intern/Machine%20Learning/House%20Price%20Prediction/House%20Price%20prediction.ipynb#W2sZmlsZQ%3D%3D?line=1'>2</a>\u001b[0m Y \u001b[39m=\u001b[39m DataFrame[\u001b[39m\"\u001b[39m\u001b[39mprice\u001b[39m\u001b[39m\"\u001b[39m]\n\u001b[1;32m----> <a href='vscode-notebook-cell:/c%3A/Users/susha/OneDrive/Desktop/Programing%20Folder/Other%27s%20Code/Simran%27s%20Code/Bharat%20Intern/Machine%20Learning/House%20Price%20Prediction/House%20Price%20prediction.ipynb#W2sZmlsZQ%3D%3D?line=2'>3</a>\u001b[0m DataFrame\u001b[39m.\u001b[39;49mplot(\u001b[39m\"\u001b[39;49m\u001b[39marea\u001b[39;49m\u001b[39m\"\u001b[39;49m,Y)\n\u001b[0;32m      <a href='vscode-notebook-cell:/c%3A/Users/susha/OneDrive/Desktop/Programing%20Folder/Other%27s%20Code/Simran%27s%20Code/Bharat%20Intern/Machine%20Learning/House%20Price%20Prediction/House%20Price%20prediction.ipynb#W2sZmlsZQ%3D%3D?line=3'>4</a>\u001b[0m \u001b[39m# Select categorical columns for encoding\u001b[39;00m\n\u001b[0;32m      <a href='vscode-notebook-cell:/c%3A/Users/susha/OneDrive/Desktop/Programing%20Folder/Other%27s%20Code/Simran%27s%20Code/Bharat%20Intern/Machine%20Learning/House%20Price%20Prediction/House%20Price%20prediction.ipynb#W2sZmlsZQ%3D%3D?line=4'>5</a>\u001b[0m categorical_columns \u001b[39m=\u001b[39m [\n\u001b[0;32m      <a href='vscode-notebook-cell:/c%3A/Users/susha/OneDrive/Desktop/Programing%20Folder/Other%27s%20Code/Simran%27s%20Code/Bharat%20Intern/Machine%20Learning/House%20Price%20Prediction/House%20Price%20prediction.ipynb#W2sZmlsZQ%3D%3D?line=5'>6</a>\u001b[0m     \u001b[39m\"\u001b[39m\u001b[39mmainroad\u001b[39m\u001b[39m\"\u001b[39m,\n\u001b[0;32m      <a href='vscode-notebook-cell:/c%3A/Users/susha/OneDrive/Desktop/Programing%20Folder/Other%27s%20Code/Simran%27s%20Code/Bharat%20Intern/Machine%20Learning/House%20Price%20Prediction/House%20Price%20prediction.ipynb#W2sZmlsZQ%3D%3D?line=6'>7</a>\u001b[0m     \u001b[39m\"\u001b[39m\u001b[39mguestroom\u001b[39m\u001b[39m\"\u001b[39m,\n\u001b[1;32m   (...)\u001b[0m\n\u001b[0;32m     <a href='vscode-notebook-cell:/c%3A/Users/susha/OneDrive/Desktop/Programing%20Folder/Other%27s%20Code/Simran%27s%20Code/Bharat%20Intern/Machine%20Learning/House%20Price%20Prediction/House%20Price%20prediction.ipynb#W2sZmlsZQ%3D%3D?line=10'>11</a>\u001b[0m     \u001b[39m\"\u001b[39m\u001b[39mfurnishingstatus\u001b[39m\u001b[39m\"\u001b[39m,\n\u001b[0;32m     <a href='vscode-notebook-cell:/c%3A/Users/susha/OneDrive/Desktop/Programing%20Folder/Other%27s%20Code/Simran%27s%20Code/Bharat%20Intern/Machine%20Learning/House%20Price%20Prediction/House%20Price%20prediction.ipynb#W2sZmlsZQ%3D%3D?line=11'>12</a>\u001b[0m ]\n",
      "File \u001b[1;32mc:\\Users\\susha\\AppData\\Local\\Programs\\Python\\Python310\\lib\\site-packages\\pandas\\plotting\\_core.py:922\u001b[0m, in \u001b[0;36mPlotAccessor.__call__\u001b[1;34m(self, *args, **kwargs)\u001b[0m\n\u001b[0;32m    919\u001b[0m \u001b[39mdef\u001b[39;00m \u001b[39m__call__\u001b[39m(\u001b[39mself\u001b[39m, \u001b[39m*\u001b[39margs, \u001b[39m*\u001b[39m\u001b[39m*\u001b[39mkwargs):\n\u001b[0;32m    920\u001b[0m     plot_backend \u001b[39m=\u001b[39m _get_plot_backend(kwargs\u001b[39m.\u001b[39mpop(\u001b[39m\"\u001b[39m\u001b[39mbackend\u001b[39m\u001b[39m\"\u001b[39m, \u001b[39mNone\u001b[39;00m))\n\u001b[1;32m--> 922\u001b[0m     x, y, kind, kwargs \u001b[39m=\u001b[39m \u001b[39mself\u001b[39;49m\u001b[39m.\u001b[39;49m_get_call_args(\n\u001b[0;32m    923\u001b[0m         plot_backend\u001b[39m.\u001b[39;49m\u001b[39m__name__\u001b[39;49m, \u001b[39mself\u001b[39;49m\u001b[39m.\u001b[39;49m_parent, args, kwargs\n\u001b[0;32m    924\u001b[0m     )\n\u001b[0;32m    926\u001b[0m     kind \u001b[39m=\u001b[39m \u001b[39mself\u001b[39m\u001b[39m.\u001b[39m_kind_aliases\u001b[39m.\u001b[39mget(kind, kind)\n\u001b[0;32m    928\u001b[0m     \u001b[39m# when using another backend, get out of the way\u001b[39;00m\n",
      "File \u001b[1;32mc:\\Users\\susha\\AppData\\Local\\Programs\\Python\\Python310\\lib\\site-packages\\pandas\\plotting\\_core.py:886\u001b[0m, in \u001b[0;36mPlotAccessor._get_call_args\u001b[1;34m(backend_name, data, args, kwargs)\u001b[0m\n\u001b[0;32m    880\u001b[0m \u001b[39melse\u001b[39;00m:\n\u001b[0;32m    881\u001b[0m     \u001b[39mraise\u001b[39;00m \u001b[39mTypeError\u001b[39;00m(\n\u001b[0;32m    882\u001b[0m         \u001b[39mf\u001b[39m\u001b[39m\"\u001b[39m\u001b[39mCalled plot accessor for type \u001b[39m\u001b[39m{\u001b[39;00m\u001b[39mtype\u001b[39m(data)\u001b[39m.\u001b[39m\u001b[39m__name__\u001b[39m\u001b[39m}\u001b[39;00m\u001b[39m, \u001b[39m\u001b[39m\"\u001b[39m\n\u001b[0;32m    883\u001b[0m         \u001b[39m\"\u001b[39m\u001b[39mexpected Series or DataFrame\u001b[39m\u001b[39m\"\u001b[39m\n\u001b[0;32m    884\u001b[0m     )\n\u001b[1;32m--> 886\u001b[0m \u001b[39mif\u001b[39;00m \u001b[39m\"\u001b[39;49m\u001b[39msort_columns\u001b[39;49m\u001b[39m\"\u001b[39;49m \u001b[39min\u001b[39;49;00m itertools\u001b[39m.\u001b[39;49mchain(args, kwargs\u001b[39m.\u001b[39;49mkeys()):\n\u001b[0;32m    887\u001b[0m     warnings\u001b[39m.\u001b[39mwarn(\n\u001b[0;32m    888\u001b[0m         \u001b[39m\"\u001b[39m\u001b[39m`sort_columns` is deprecated and will be removed in a future \u001b[39m\u001b[39m\"\u001b[39m\n\u001b[0;32m    889\u001b[0m         \u001b[39m\"\u001b[39m\u001b[39mversion.\u001b[39m\u001b[39m\"\u001b[39m,\n\u001b[0;32m    890\u001b[0m         \u001b[39mFutureWarning\u001b[39;00m,\n\u001b[0;32m    891\u001b[0m         stacklevel\u001b[39m=\u001b[39mfind_stack_level(),\n\u001b[0;32m    892\u001b[0m     )\n\u001b[0;32m    894\u001b[0m \u001b[39mif\u001b[39;00m args \u001b[39mand\u001b[39;00m \u001b[39misinstance\u001b[39m(data, ABCSeries):\n",
      "File \u001b[1;32mc:\\Users\\susha\\AppData\\Local\\Programs\\Python\\Python310\\lib\\site-packages\\pandas\\core\\generic.py:1527\u001b[0m, in \u001b[0;36mNDFrame.__nonzero__\u001b[1;34m(self)\u001b[0m\n\u001b[0;32m   1525\u001b[0m \u001b[39m@final\u001b[39m\n\u001b[0;32m   1526\u001b[0m \u001b[39mdef\u001b[39;00m \u001b[39m__nonzero__\u001b[39m(\u001b[39mself\u001b[39m) \u001b[39m-\u001b[39m\u001b[39m>\u001b[39m NoReturn:\n\u001b[1;32m-> 1527\u001b[0m     \u001b[39mraise\u001b[39;00m \u001b[39mValueError\u001b[39;00m(\n\u001b[0;32m   1528\u001b[0m         \u001b[39mf\u001b[39m\u001b[39m\"\u001b[39m\u001b[39mThe truth value of a \u001b[39m\u001b[39m{\u001b[39;00m\u001b[39mtype\u001b[39m(\u001b[39mself\u001b[39m)\u001b[39m.\u001b[39m\u001b[39m__name__\u001b[39m\u001b[39m}\u001b[39;00m\u001b[39m is ambiguous. \u001b[39m\u001b[39m\"\u001b[39m\n\u001b[0;32m   1529\u001b[0m         \u001b[39m\"\u001b[39m\u001b[39mUse a.empty, a.bool(), a.item(), a.any() or a.all().\u001b[39m\u001b[39m\"\u001b[39m\n\u001b[0;32m   1530\u001b[0m     )\n",
      "\u001b[1;31mValueError\u001b[0m: The truth value of a Series is ambiguous. Use a.empty, a.bool(), a.item(), a.any() or a.all()."
     ]
    }
   ],
   "source": [
    "X = DataFrame.drop(columns=[\"price\"])\n",
    "Y = DataFrame[\"price\"]\n",
    "\n",
    "categorical_columns = [\n",
    "    \"mainroad\",\n",
    "    \"guestroom\",\n",
    "    \"basement\",\n",
    "    \"hotwaterheating\",\n",
    "    \"airconditioning\",\n",
    "    \"furnishingstatus\",\n",
    "]\n",
    "\n",
    "Label = {}\n",
    "for col in categorical_columns:\n",
    "    le = LabelEncoder()\n",
    "    X[col] = le.fit_transform(X[col])\n",
    "    Label[col] = le\n",
    "\n",
    "X_train, X_test, y_train, y_test = train_test_split(\n",
    "    X, Y, test_size=0.2, random_state=42\n",
    ")\n",
    "\n",
    "Model = LinearRegression()\n",
    "Model.fit(X, Y)\n"
   ]
  },
  {
   "cell_type": "code",
   "execution_count": 61,
   "metadata": {},
   "outputs": [
    {
     "name": "stdout",
     "output_type": "stream",
     "text": [
      "Mean Absolute Error: 966168.96\n"
     ]
    }
   ],
   "source": [
    "y_pred = Model.predict(X_test)\n",
    "\n",
    "from sklearn.metrics import mean_absolute_error\n",
    "mae = mean_absolute_error(y_test, y_pred)\n",
    "print(f\"Mean Absolute Error: {mae:.2f}\")"
   ]
  },
  {
   "cell_type": "code",
   "execution_count": 62,
   "metadata": {},
   "outputs": [],
   "source": [
    "Area = int(input(\"Enter the area of House: \"))\n",
    "Bedroom = int(input(\"Enter the number of Bedrooms: \"))\n",
    "Bathroom = int(input(\"Enter the Number Of Bathrooms: \"))\n",
    "Stories = int(input(\"Enter the Number Of Floor: \"))\n",
    "MainRoad = input(\"Is House connected to Mainroad (yes/no): \")\n",
    "Guestroom = input(\"Do House have a Guestroom (yes/no): \")\n",
    "Basement = input(\"Do House have a Basement (yes/no): \")\n",
    "HotWaterHeating = input(\"Do House have a Hot Water Heating System (yes/no): \")\n",
    "AC = input(\"Do House have a AC (yes/no): \")\n",
    "Parking = int(input(\"Enter the Number Of Parking Slots: \"))\n",
    "FurnishingStatus = input(\"House's Furnishing Status (furnished/semi-furnished/unfurnished): \")\n",
    "\n",
    "user_input = pd.DataFrame(\n",
    "    {\n",
    "        \"area\": [Area],\n",
    "        \"bedrooms\": [Bedroom],\n",
    "        \"bathrooms\": [Bathroom],\n",
    "        \"stories\": [Stories],\n",
    "        \"mainroad\": [MainRoad],\n",
    "        \"guestroom\": [Guestroom],\n",
    "        \"basement\": [Basement],\n",
    "        \"hotwaterheating\": [HotWaterHeating],\n",
    "        \"airconditioning\": [AC],\n",
    "        \"parking\": [Parking],\n",
    "        \"furnishingstatus\": [FurnishingStatus],\n",
    "    }\n",
    ")"
   ]
  },
  {
   "cell_type": "code",
   "execution_count": 63,
   "metadata": {},
   "outputs": [
    {
     "name": "stdout",
     "output_type": "stream",
     "text": [
      "The Price must be near about Rs.11051668.64\n"
     ]
    }
   ],
   "source": [
    "for col, le in Label.items():\n",
    "    user_input[col] = le.transform(user_input[col])\n",
    "\n",
    "predicted_price = Model.predict(user_input)\n",
    "print(f\"The Price must be near about Rs.{(predicted_price[0]):.2f}\")"
   ]
  }
 ],
 "metadata": {
  "kernelspec": {
   "display_name": "Python 3",
   "language": "python",
   "name": "python3"
  },
  "language_info": {
   "codemirror_mode": {
    "name": "ipython",
    "version": 3
   },
   "file_extension": ".py",
   "mimetype": "text/x-python",
   "name": "python",
   "nbconvert_exporter": "python",
   "pygments_lexer": "ipython3",
   "version": "3.10.11"
  },
  "orig_nbformat": 4
 },
 "nbformat": 4,
 "nbformat_minor": 2
}

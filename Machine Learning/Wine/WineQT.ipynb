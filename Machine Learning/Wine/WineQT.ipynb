{
 "cells": [
  {
   "cell_type": "code",
   "execution_count": 4,
   "metadata": {},
   "outputs": [],
   "source": [
    "import pandas as pd\n",
    "from sklearn.model_selection import train_test_split\n",
    "from sklearn.linear_model import LinearRegression\n",
    "from sklearn.metrics import mean_squared_error, r2_score"
   ]
  },
  {
   "cell_type": "code",
   "execution_count": 5,
   "metadata": {},
   "outputs": [],
   "source": [
    "file_path = r\"C:\\Users\\susha\\OneDrive\\Desktop\\Programing Folder\\Other's Code\\Simran's Code\\Bharat Intern\\Machine Learning\\Wine\\WineQT.csv\"\n",
    "DataFrame = pd.read_csv(file_path)"
   ]
  },
  {
   "cell_type": "code",
   "execution_count": 6,
   "metadata": {},
   "outputs": [
    {
     "name": "stdout",
     "output_type": "stream",
     "text": [
      "Mean Squared Error: 0.38\n",
      "R-squared (R2) Score: 0.32\n"
     ]
    }
   ],
   "source": [
    "X = DataFrame.drop(columns=['quality'])\n",
    "Y = DataFrame['quality']\n",
    "\n",
    "X_train, X_test, y_train, y_test = train_test_split(X, Y, test_size=0.2, random_state=42)\n",
    "\n",
    "model = LinearRegression()\n",
    "model.fit(X_train, y_train)\n",
    "\n",
    "y_pred = model.predict(X_test)\n",
    "\n",
    "mse = mean_squared_error(y_test, y_pred)\n",
    "r2 = r2_score(y_test, y_pred)\n",
    "\n",
    "print(f\"Mean Squared Error: {mse:.2f}\")\n",
    "print(f\"R-squared (R2) Score: {r2:.2f}\")\n"
   ]
  },
  {
   "cell_type": "code",
   "execution_count": 7,
   "metadata": {},
   "outputs": [
    {
     "name": "stdout",
     "output_type": "stream",
     "text": [
      "\n",
      "Enter wine characteristics for prediction:\n",
      "\n",
      "The predicted wine quality is approximately: 5.06\n"
     ]
    }
   ],
   "source": [
    "print(\"\\nEnter wine characteristics for prediction:\")\n",
    "fixed_acidity = float(input(\"Fixed Acidity: \"))\n",
    "volatile_acidity = float(input(\"Volatile Acidity: \"))\n",
    "citric_acid = float(input(\"Citric Acid: \"))\n",
    "residual_sugar = float(input(\"Residual Sugar: \"))\n",
    "chlorides = float(input(\"Chlorides: \"))\n",
    "free_sulfur_dioxide = float(input(\"Free Sulfur Dioxide: \"))\n",
    "total_sulfur_dioxide = float(input(\"Total Sulfur Dioxide: \"))\n",
    "density = float(input(\"Density: \"))\n",
    "pH = float(input(\"pH: \"))\n",
    "sulphates = float(input(\"Sulphates: \"))\n",
    "alcohol = float(input(\"Alcohol: \"))\n",
    "\n",
    "user_input = pd.DataFrame({\n",
    "    'fixed acidity': [fixed_acidity],\n",
    "    'volatile acidity': [volatile_acidity],\n",
    "    'citric acid': [citric_acid],\n",
    "    'residual sugar': [residual_sugar],\n",
    "    'chlorides': [chlorides],\n",
    "    'free sulfur dioxide': [free_sulfur_dioxide],\n",
    "    'total sulfur dioxide': [total_sulfur_dioxide],\n",
    "    'density': [density],\n",
    "    'pH': [pH],\n",
    "    'sulphates': [sulphates],\n",
    "    'alcohol': [alcohol]\n",
    "})\n",
    "\n",
    "predicted_quality = model.predict(user_input)\n",
    "print(f\"\\nThe predicted wine quality is approximately: {int(predicted_quality[0])}\")\n"
   ]
  }
 ],
 "metadata": {
  "kernelspec": {
   "display_name": "Python 3",
   "language": "python",
   "name": "python3"
  },
  "language_info": {
   "codemirror_mode": {
    "name": "ipython",
    "version": 3
   },
   "file_extension": ".py",
   "mimetype": "text/x-python",
   "name": "python",
   "nbconvert_exporter": "python",
   "pygments_lexer": "ipython3",
   "version": "3.10.11"
  },
  "orig_nbformat": 4
 },
 "nbformat": 4,
 "nbformat_minor": 2
}
